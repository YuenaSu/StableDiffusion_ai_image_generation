{
 "cells": [
  {
   "cell_type": "code",
   "execution_count": 2,
   "id": "75f2e07e-0303-4cd9-8a3a-cf7ef6ea3b0b",
   "metadata": {},
   "outputs": [
    {
     "name": "stdout",
     "output_type": "stream",
     "text": [
      "Collecting gradio_client\n",
      "  Downloading gradio_client-1.8.0-py3-none-any.whl.metadata (7.1 kB)\n",
      "Collecting fsspec (from gradio_client)\n",
      "  Downloading fsspec-2025.3.2-py3-none-any.whl.metadata (11 kB)\n",
      "Requirement already satisfied: httpx>=0.24.1 in /Users/yuenasu/.pyenv/versions/3.13.0/lib/python3.13/site-packages (from gradio_client) (0.27.2)\n",
      "Collecting huggingface-hub>=0.19.3 (from gradio_client)\n",
      "  Downloading huggingface_hub-0.30.2-py3-none-any.whl.metadata (13 kB)\n",
      "Requirement already satisfied: packaging in /Users/yuenasu/.pyenv/versions/3.13.0/lib/python3.13/site-packages (from gradio_client) (24.2)\n",
      "Collecting typing-extensions~=4.0 (from gradio_client)\n",
      "  Downloading typing_extensions-4.13.2-py3-none-any.whl.metadata (3.0 kB)\n",
      "Collecting websockets<16.0,>=10.0 (from gradio_client)\n",
      "  Downloading websockets-15.0.1-cp313-cp313-macosx_11_0_arm64.whl.metadata (6.8 kB)\n",
      "Requirement already satisfied: anyio in /Users/yuenasu/.pyenv/versions/3.13.0/lib/python3.13/site-packages (from httpx>=0.24.1->gradio_client) (4.6.2.post1)\n",
      "Requirement already satisfied: certifi in /Users/yuenasu/.pyenv/versions/3.13.0/lib/python3.13/site-packages (from httpx>=0.24.1->gradio_client) (2024.8.30)\n",
      "Requirement already satisfied: httpcore==1.* in /Users/yuenasu/.pyenv/versions/3.13.0/lib/python3.13/site-packages (from httpx>=0.24.1->gradio_client) (1.0.6)\n",
      "Requirement already satisfied: idna in /Users/yuenasu/.pyenv/versions/3.13.0/lib/python3.13/site-packages (from httpx>=0.24.1->gradio_client) (3.10)\n",
      "Requirement already satisfied: sniffio in /Users/yuenasu/.pyenv/versions/3.13.0/lib/python3.13/site-packages (from httpx>=0.24.1->gradio_client) (1.3.1)\n",
      "Requirement already satisfied: h11<0.15,>=0.13 in /Users/yuenasu/.pyenv/versions/3.13.0/lib/python3.13/site-packages (from httpcore==1.*->httpx>=0.24.1->gradio_client) (0.14.0)\n",
      "Requirement already satisfied: filelock in /Users/yuenasu/.pyenv/versions/3.13.0/lib/python3.13/site-packages (from huggingface-hub>=0.19.3->gradio_client) (3.16.1)\n",
      "Requirement already satisfied: pyyaml>=5.1 in /Users/yuenasu/.pyenv/versions/3.13.0/lib/python3.13/site-packages (from huggingface-hub>=0.19.3->gradio_client) (6.0.2)\n",
      "Requirement already satisfied: requests in /Users/yuenasu/.pyenv/versions/3.13.0/lib/python3.13/site-packages (from huggingface-hub>=0.19.3->gradio_client) (2.32.3)\n",
      "Requirement already satisfied: tqdm>=4.42.1 in /Users/yuenasu/.local/lib/python3.13/site-packages (from huggingface-hub>=0.19.3->gradio_client) (4.67.1)\n",
      "Requirement already satisfied: charset-normalizer<4,>=2 in /Users/yuenasu/.pyenv/versions/3.13.0/lib/python3.13/site-packages (from requests->huggingface-hub>=0.19.3->gradio_client) (3.4.0)\n",
      "Requirement already satisfied: urllib3<3,>=1.21.1 in /Users/yuenasu/.pyenv/versions/3.13.0/lib/python3.13/site-packages (from requests->huggingface-hub>=0.19.3->gradio_client) (2.2.3)\n",
      "Downloading gradio_client-1.8.0-py3-none-any.whl (322 kB)\n",
      "Downloading huggingface_hub-0.30.2-py3-none-any.whl (481 kB)\n",
      "Downloading fsspec-2025.3.2-py3-none-any.whl (194 kB)\n",
      "Downloading typing_extensions-4.13.2-py3-none-any.whl (45 kB)\n",
      "Downloading websockets-15.0.1-cp313-cp313-macosx_11_0_arm64.whl (173 kB)\n",
      "Installing collected packages: websockets, typing-extensions, fsspec, huggingface-hub, gradio_client\n",
      "Successfully installed fsspec-2025.3.2 gradio_client-1.8.0 huggingface-hub-0.30.2 typing-extensions-4.13.2 websockets-15.0.1\n",
      "\n",
      "\u001b[1m[\u001b[0m\u001b[34;49mnotice\u001b[0m\u001b[1;39;49m]\u001b[0m\u001b[39;49m A new release of pip is available: \u001b[0m\u001b[31;49m24.2\u001b[0m\u001b[39;49m -> \u001b[0m\u001b[32;49m25.0.1\u001b[0m\n",
      "\u001b[1m[\u001b[0m\u001b[34;49mnotice\u001b[0m\u001b[1;39;49m]\u001b[0m\u001b[39;49m To update, run: \u001b[0m\u001b[32;49mpip install --upgrade pip\u001b[0m\n",
      "Note: you may need to restart the kernel to use updated packages.\n"
     ]
    }
   ],
   "source": [
    "pip install gradio_client"
   ]
  },
  {
   "cell_type": "code",
   "execution_count": 18,
   "id": "84bed684-c2ec-4bb2-91b0-badf99bb718d",
   "metadata": {},
   "outputs": [
    {
     "name": "stdout",
     "output_type": "stream",
     "text": [
      "Collecting gradio\n",
      "  Downloading gradio-5.25.2-py3-none-any.whl.metadata (16 kB)\n",
      "Collecting aiofiles<25.0,>=22.0 (from gradio)\n",
      "  Downloading aiofiles-24.1.0-py3-none-any.whl.metadata (10 kB)\n",
      "Requirement already satisfied: anyio<5.0,>=3.0 in /Users/yuenasu/.pyenv/versions/3.13.0/lib/python3.13/site-packages (from gradio) (4.6.2.post1)\n",
      "Collecting audioop-lts<1.0 (from gradio)\n",
      "  Downloading audioop_lts-0.2.1-cp313-abi3-macosx_11_0_arm64.whl.metadata (1.6 kB)\n",
      "Collecting fastapi<1.0,>=0.115.2 (from gradio)\n",
      "  Downloading fastapi-0.115.12-py3-none-any.whl.metadata (27 kB)\n",
      "Collecting ffmpy (from gradio)\n",
      "  Downloading ffmpy-0.5.0-py3-none-any.whl.metadata (3.0 kB)\n",
      "Requirement already satisfied: gradio-client==1.8.0 in /Users/yuenasu/.pyenv/versions/3.13.0/lib/python3.13/site-packages (from gradio) (1.8.0)\n",
      "Collecting groovy~=0.1 (from gradio)\n",
      "  Downloading groovy-0.1.2-py3-none-any.whl.metadata (6.1 kB)\n",
      "Requirement already satisfied: httpx>=0.24.1 in /Users/yuenasu/.pyenv/versions/3.13.0/lib/python3.13/site-packages (from gradio) (0.27.2)\n",
      "Requirement already satisfied: huggingface-hub>=0.28.1 in /Users/yuenasu/.pyenv/versions/3.13.0/lib/python3.13/site-packages (from gradio) (0.30.2)\n",
      "Requirement already satisfied: jinja2<4.0 in /Users/yuenasu/.pyenv/versions/3.13.0/lib/python3.13/site-packages (from gradio) (3.1.4)\n",
      "Requirement already satisfied: markupsafe<4.0,>=2.0 in /Users/yuenasu/.pyenv/versions/3.13.0/lib/python3.13/site-packages (from gradio) (3.0.2)\n",
      "Requirement already satisfied: numpy<3.0,>=1.0 in /Users/yuenasu/.pyenv/versions/3.13.0/lib/python3.13/site-packages (from gradio) (2.2.1)\n",
      "Collecting orjson~=3.0 (from gradio)\n",
      "  Downloading orjson-3.10.16-cp313-cp313-macosx_10_15_x86_64.macosx_11_0_arm64.macosx_10_15_universal2.whl.metadata (41 kB)\n",
      "Requirement already satisfied: packaging in /Users/yuenasu/.pyenv/versions/3.13.0/lib/python3.13/site-packages (from gradio) (24.2)\n",
      "Requirement already satisfied: pandas<3.0,>=1.0 in /Users/yuenasu/.pyenv/versions/3.13.0/lib/python3.13/site-packages (from gradio) (2.2.3)\n",
      "Requirement already satisfied: pillow<12.0,>=8.0 in /Users/yuenasu/.pyenv/versions/3.13.0/lib/python3.13/site-packages (from gradio) (11.1.0)\n",
      "Collecting pydantic<2.12,>=2.0 (from gradio)\n",
      "  Downloading pydantic-2.11.3-py3-none-any.whl.metadata (65 kB)\n",
      "Collecting pydub (from gradio)\n",
      "  Downloading pydub-0.25.1-py2.py3-none-any.whl.metadata (1.4 kB)\n",
      "Collecting python-multipart>=0.0.18 (from gradio)\n",
      "  Downloading python_multipart-0.0.20-py3-none-any.whl.metadata (1.8 kB)\n",
      "Requirement already satisfied: pyyaml<7.0,>=5.0 in /Users/yuenasu/.pyenv/versions/3.13.0/lib/python3.13/site-packages (from gradio) (6.0.2)\n",
      "Collecting ruff>=0.9.3 (from gradio)\n",
      "  Downloading ruff-0.11.5-py3-none-macosx_11_0_arm64.whl.metadata (25 kB)\n",
      "Collecting safehttpx<0.2.0,>=0.1.6 (from gradio)\n",
      "  Downloading safehttpx-0.1.6-py3-none-any.whl.metadata (4.2 kB)\n",
      "Collecting semantic-version~=2.0 (from gradio)\n",
      "  Downloading semantic_version-2.10.0-py2.py3-none-any.whl.metadata (9.7 kB)\n",
      "Collecting starlette<1.0,>=0.40.0 (from gradio)\n",
      "  Downloading starlette-0.46.2-py3-none-any.whl.metadata (6.2 kB)\n",
      "Collecting tomlkit<0.14.0,>=0.12.0 (from gradio)\n",
      "  Downloading tomlkit-0.13.2-py3-none-any.whl.metadata (2.7 kB)\n",
      "Collecting typer<1.0,>=0.12 (from gradio)\n",
      "  Downloading typer-0.15.2-py3-none-any.whl.metadata (15 kB)\n",
      "Requirement already satisfied: typing-extensions~=4.0 in /Users/yuenasu/.pyenv/versions/3.13.0/lib/python3.13/site-packages (from gradio) (4.13.2)\n",
      "Collecting uvicorn>=0.14.0 (from gradio)\n",
      "  Downloading uvicorn-0.34.1-py3-none-any.whl.metadata (6.5 kB)\n",
      "Requirement already satisfied: fsspec in /Users/yuenasu/.pyenv/versions/3.13.0/lib/python3.13/site-packages (from gradio-client==1.8.0->gradio) (2025.3.2)\n",
      "Requirement already satisfied: websockets<16.0,>=10.0 in /Users/yuenasu/.pyenv/versions/3.13.0/lib/python3.13/site-packages (from gradio-client==1.8.0->gradio) (15.0.1)\n",
      "Requirement already satisfied: idna>=2.8 in /Users/yuenasu/.pyenv/versions/3.13.0/lib/python3.13/site-packages (from anyio<5.0,>=3.0->gradio) (3.10)\n",
      "Requirement already satisfied: sniffio>=1.1 in /Users/yuenasu/.pyenv/versions/3.13.0/lib/python3.13/site-packages (from anyio<5.0,>=3.0->gradio) (1.3.1)\n",
      "Requirement already satisfied: certifi in /Users/yuenasu/.pyenv/versions/3.13.0/lib/python3.13/site-packages (from httpx>=0.24.1->gradio) (2024.8.30)\n",
      "Requirement already satisfied: httpcore==1.* in /Users/yuenasu/.pyenv/versions/3.13.0/lib/python3.13/site-packages (from httpx>=0.24.1->gradio) (1.0.6)\n",
      "Requirement already satisfied: h11<0.15,>=0.13 in /Users/yuenasu/.pyenv/versions/3.13.0/lib/python3.13/site-packages (from httpcore==1.*->httpx>=0.24.1->gradio) (0.14.0)\n",
      "Requirement already satisfied: filelock in /Users/yuenasu/.pyenv/versions/3.13.0/lib/python3.13/site-packages (from huggingface-hub>=0.28.1->gradio) (3.16.1)\n",
      "Requirement already satisfied: requests in /Users/yuenasu/.pyenv/versions/3.13.0/lib/python3.13/site-packages (from huggingface-hub>=0.28.1->gradio) (2.32.3)\n",
      "Requirement already satisfied: tqdm>=4.42.1 in /Users/yuenasu/.local/lib/python3.13/site-packages (from huggingface-hub>=0.28.1->gradio) (4.67.1)\n",
      "Requirement already satisfied: python-dateutil>=2.8.2 in /Users/yuenasu/.pyenv/versions/3.13.0/lib/python3.13/site-packages (from pandas<3.0,>=1.0->gradio) (2.9.0.post0)\n",
      "Requirement already satisfied: pytz>=2020.1 in /Users/yuenasu/.pyenv/versions/3.13.0/lib/python3.13/site-packages (from pandas<3.0,>=1.0->gradio) (2024.2)\n",
      "Requirement already satisfied: tzdata>=2022.7 in /Users/yuenasu/.pyenv/versions/3.13.0/lib/python3.13/site-packages (from pandas<3.0,>=1.0->gradio) (2024.2)\n",
      "Collecting annotated-types>=0.6.0 (from pydantic<2.12,>=2.0->gradio)\n",
      "  Downloading annotated_types-0.7.0-py3-none-any.whl.metadata (15 kB)\n",
      "Collecting pydantic-core==2.33.1 (from pydantic<2.12,>=2.0->gradio)\n",
      "  Downloading pydantic_core-2.33.1-cp313-cp313-macosx_11_0_arm64.whl.metadata (6.8 kB)\n",
      "Collecting typing-inspection>=0.4.0 (from pydantic<2.12,>=2.0->gradio)\n",
      "  Downloading typing_inspection-0.4.0-py3-none-any.whl.metadata (2.6 kB)\n",
      "Collecting click>=8.0.0 (from typer<1.0,>=0.12->gradio)\n",
      "  Downloading click-8.1.8-py3-none-any.whl.metadata (2.3 kB)\n",
      "Collecting shellingham>=1.3.0 (from typer<1.0,>=0.12->gradio)\n",
      "  Downloading shellingham-1.5.4-py2.py3-none-any.whl.metadata (3.5 kB)\n",
      "Collecting rich>=10.11.0 (from typer<1.0,>=0.12->gradio)\n",
      "  Downloading rich-14.0.0-py3-none-any.whl.metadata (18 kB)\n",
      "Requirement already satisfied: six>=1.5 in /Users/yuenasu/.pyenv/versions/3.13.0/lib/python3.13/site-packages (from python-dateutil>=2.8.2->pandas<3.0,>=1.0->gradio) (1.16.0)\n",
      "Collecting markdown-it-py>=2.2.0 (from rich>=10.11.0->typer<1.0,>=0.12->gradio)\n",
      "  Downloading markdown_it_py-3.0.0-py3-none-any.whl.metadata (6.9 kB)\n",
      "Requirement already satisfied: pygments<3.0.0,>=2.13.0 in /Users/yuenasu/.pyenv/versions/3.13.0/lib/python3.13/site-packages (from rich>=10.11.0->typer<1.0,>=0.12->gradio) (2.18.0)\n",
      "Requirement already satisfied: charset-normalizer<4,>=2 in /Users/yuenasu/.pyenv/versions/3.13.0/lib/python3.13/site-packages (from requests->huggingface-hub>=0.28.1->gradio) (3.4.0)\n",
      "Requirement already satisfied: urllib3<3,>=1.21.1 in /Users/yuenasu/.pyenv/versions/3.13.0/lib/python3.13/site-packages (from requests->huggingface-hub>=0.28.1->gradio) (2.2.3)\n",
      "Collecting mdurl~=0.1 (from markdown-it-py>=2.2.0->rich>=10.11.0->typer<1.0,>=0.12->gradio)\n",
      "  Downloading mdurl-0.1.2-py3-none-any.whl.metadata (1.6 kB)\n",
      "Downloading gradio-5.25.2-py3-none-any.whl (46.9 MB)\n",
      "\u001b[2K   \u001b[90m━━━━━━━━━━━━━━━━━━━━━━━━━━━━━━━━━━━━━━━━\u001b[0m \u001b[32m46.9/46.9 MB\u001b[0m \u001b[31m109.7 MB/s\u001b[0m eta \u001b[36m0:00:00\u001b[0m00:01\u001b[0m00:01\u001b[0m\n",
      "\u001b[?25hDownloading aiofiles-24.1.0-py3-none-any.whl (15 kB)\n",
      "Downloading audioop_lts-0.2.1-cp313-abi3-macosx_11_0_arm64.whl (26 kB)\n",
      "Downloading fastapi-0.115.12-py3-none-any.whl (95 kB)\n",
      "Downloading groovy-0.1.2-py3-none-any.whl (14 kB)\n",
      "Downloading orjson-3.10.16-cp313-cp313-macosx_10_15_x86_64.macosx_11_0_arm64.macosx_10_15_universal2.whl (249 kB)\n",
      "Downloading pydantic-2.11.3-py3-none-any.whl (443 kB)\n",
      "Downloading pydantic_core-2.33.1-cp313-cp313-macosx_11_0_arm64.whl (1.9 MB)\n",
      "\u001b[2K   \u001b[90m━━━━━━━━━━━━━━━━━━━━━━━━━━━━━━━━━━━━━━━━\u001b[0m \u001b[32m1.9/1.9 MB\u001b[0m \u001b[31m89.1 MB/s\u001b[0m eta \u001b[36m0:00:00\u001b[0m\n",
      "\u001b[?25hDownloading python_multipart-0.0.20-py3-none-any.whl (24 kB)\n",
      "Downloading ruff-0.11.5-py3-none-macosx_11_0_arm64.whl (10.2 MB)\n",
      "\u001b[2K   \u001b[90m━━━━━━━━━━━━━━━━━━━━━━━━━━━━━━━━━━━━━━━━\u001b[0m \u001b[32m10.2/10.2 MB\u001b[0m \u001b[31m109.4 MB/s\u001b[0m eta \u001b[36m0:00:00\u001b[0m\n",
      "\u001b[?25hDownloading safehttpx-0.1.6-py3-none-any.whl (8.7 kB)\n",
      "Downloading semantic_version-2.10.0-py2.py3-none-any.whl (15 kB)\n",
      "Downloading starlette-0.46.2-py3-none-any.whl (72 kB)\n",
      "Downloading tomlkit-0.13.2-py3-none-any.whl (37 kB)\n",
      "Downloading typer-0.15.2-py3-none-any.whl (45 kB)\n",
      "Downloading uvicorn-0.34.1-py3-none-any.whl (62 kB)\n",
      "Downloading ffmpy-0.5.0-py3-none-any.whl (6.0 kB)\n",
      "Downloading pydub-0.25.1-py2.py3-none-any.whl (32 kB)\n",
      "Downloading annotated_types-0.7.0-py3-none-any.whl (13 kB)\n",
      "Downloading click-8.1.8-py3-none-any.whl (98 kB)\n",
      "Downloading rich-14.0.0-py3-none-any.whl (243 kB)\n",
      "Downloading shellingham-1.5.4-py2.py3-none-any.whl (9.8 kB)\n",
      "Downloading typing_inspection-0.4.0-py3-none-any.whl (14 kB)\n",
      "Downloading markdown_it_py-3.0.0-py3-none-any.whl (87 kB)\n",
      "Downloading mdurl-0.1.2-py3-none-any.whl (10.0 kB)\n",
      "Installing collected packages: pydub, typing-inspection, tomlkit, shellingham, semantic-version, ruff, python-multipart, pydantic-core, orjson, mdurl, groovy, ffmpy, click, audioop-lts, annotated-types, aiofiles, uvicorn, starlette, pydantic, markdown-it-py, safehttpx, rich, fastapi, typer, gradio\n",
      "Successfully installed aiofiles-24.1.0 annotated-types-0.7.0 audioop-lts-0.2.1 click-8.1.8 fastapi-0.115.12 ffmpy-0.5.0 gradio-5.25.2 groovy-0.1.2 markdown-it-py-3.0.0 mdurl-0.1.2 orjson-3.10.16 pydantic-2.11.3 pydantic-core-2.33.1 pydub-0.25.1 python-multipart-0.0.20 rich-14.0.0 ruff-0.11.5 safehttpx-0.1.6 semantic-version-2.10.0 shellingham-1.5.4 starlette-0.46.2 tomlkit-0.13.2 typer-0.15.2 typing-inspection-0.4.0 uvicorn-0.34.1\n",
      "\n",
      "\u001b[1m[\u001b[0m\u001b[34;49mnotice\u001b[0m\u001b[1;39;49m]\u001b[0m\u001b[39;49m A new release of pip is available: \u001b[0m\u001b[31;49m24.2\u001b[0m\u001b[39;49m -> \u001b[0m\u001b[32;49m25.0.1\u001b[0m\n",
      "\u001b[1m[\u001b[0m\u001b[34;49mnotice\u001b[0m\u001b[1;39;49m]\u001b[0m\u001b[39;49m To update, run: \u001b[0m\u001b[32;49mpip install --upgrade pip\u001b[0m\n"
     ]
    }
   ],
   "source": [
    "!pip install gradio"
   ]
  },
  {
   "cell_type": "code",
   "execution_count": 1,
   "id": "5285c9a2-f82b-4511-964f-a199e5b79ccc",
   "metadata": {},
   "outputs": [],
   "source": [
    "import os\n",
    "import shutil"
   ]
  },
  {
   "cell_type": "code",
   "execution_count": 2,
   "id": "32eb333f-91da-4228-9017-1c2bfbcb17d7",
   "metadata": {},
   "outputs": [
    {
     "name": "stdout",
     "output_type": "stream",
     "text": [
      "Loaded as API: https://stabilityai-stable-diffusion.hf.space ✔\n",
      "[{'image': '/private/var/folders/gj/02z13zbd6zdgck3cpjnc8qwr0000gn/T/gradio/c52276776c88ae9ae44fd4846ce9f87f8c4354d5f0517ca2c571db7ff6fbf371/349a0b8c-2b71-43f9-a2a5-7cfe6ed8fa2f.jpg', 'caption': None}, {'image': '/private/var/folders/gj/02z13zbd6zdgck3cpjnc8qwr0000gn/T/gradio/fa25c61ac3d0d7809fe0d9ddb4604f28caa85b023008a437ce9bf77b5ff48da1/886de9b6-30fd-486d-bfd3-c2c2e29907a2.jpg', 'caption': None}, {'image': '/private/var/folders/gj/02z13zbd6zdgck3cpjnc8qwr0000gn/T/gradio/5fdc786e32c41a8c4d046a5eca45a42313b792ad5470afb2d877c8b6dd94d7c3/14850a2e-6f12-4512-984e-d840d5385928.jpg', 'caption': None}, {'image': '/private/var/folders/gj/02z13zbd6zdgck3cpjnc8qwr0000gn/T/gradio/ea9a35b1ae49b239b1e4a005f02e5dc7c884cfc68aedc6a381f32248f2b64c7b/f8f7c203-e32b-4bdf-9f2e-e3ac12415c0b.jpg', 'caption': None}]\n"
     ]
    }
   ],
   "source": [
    "from gradio_client import Client\n",
    "\n",
    "client = Client(\"stabilityai/stable-diffusion\")\n",
    "result = client.predict(\n",
    "\t\tprompt=\"a girl in a fantasy forest, cinematic light, 8k, trending on artstation, shows face\",\n",
    "\t\tnegative=\"deformed face, bad anatomy, extra limbs, blurry, low quality\",\n",
    "\t\tscale=10,\n",
    "\t\tapi_name=\"/infer\"\n",
    ")\n",
    "print(result)"
   ]
  },
  {
   "cell_type": "code",
   "execution_count": 3,
   "id": "3e9d8dfe-e641-4f86-904f-bb72befc86cc",
   "metadata": {},
   "outputs": [
    {
     "name": "stdout",
     "output_type": "stream",
     "text": [
      "['/private/var/folders/gj/02z13zbd6zdgck3cpjnc8qwr0000gn/T/gradio/c52276776c88ae9ae44fd4846ce9f87f8c4354d5f0517ca2c571db7ff6fbf371/349a0b8c-2b71-43f9-a2a5-7cfe6ed8fa2f.jpg', '/private/var/folders/gj/02z13zbd6zdgck3cpjnc8qwr0000gn/T/gradio/fa25c61ac3d0d7809fe0d9ddb4604f28caa85b023008a437ce9bf77b5ff48da1/886de9b6-30fd-486d-bfd3-c2c2e29907a2.jpg', '/private/var/folders/gj/02z13zbd6zdgck3cpjnc8qwr0000gn/T/gradio/5fdc786e32c41a8c4d046a5eca45a42313b792ad5470afb2d877c8b6dd94d7c3/14850a2e-6f12-4512-984e-d840d5385928.jpg', '/private/var/folders/gj/02z13zbd6zdgck3cpjnc8qwr0000gn/T/gradio/ea9a35b1ae49b239b1e4a005f02e5dc7c884cfc68aedc6a381f32248f2b64c7b/f8f7c203-e32b-4bdf-9f2e-e3ac12415c0b.jpg']\n"
     ]
    }
   ],
   "source": [
    "resl = []\n",
    "for res in result:\n",
    "    resl.append(res['image'])\n",
    "print(resl)"
   ]
  },
  {
   "cell_type": "code",
   "execution_count": 4,
   "id": "3d6920fa-5861-48be-a812-39c2b1e83602",
   "metadata": {},
   "outputs": [],
   "source": [
    "# import matplotlib.pyplot as plt\n",
    "# import matplotlib.image as mpimg\n",
    "import gradio as gr"
   ]
  },
  {
   "cell_type": "code",
   "execution_count": 5,
   "id": "925ddc4f-eb42-4960-bcc7-8ea6c3aeb3da",
   "metadata": {},
   "outputs": [
    {
     "data": {
      "text/plain": [
       "['/private/var/folders/gj/02z13zbd6zdgck3cpjnc8qwr0000gn/T/gradio/c52276776c88ae9ae44fd4846ce9f87f8c4354d5f0517ca2c571db7ff6fbf371/349a0b8c-2b71-43f9-a2a5-7cfe6ed8fa2f.jpg',\n",
       " '/private/var/folders/gj/02z13zbd6zdgck3cpjnc8qwr0000gn/T/gradio/fa25c61ac3d0d7809fe0d9ddb4604f28caa85b023008a437ce9bf77b5ff48da1/886de9b6-30fd-486d-bfd3-c2c2e29907a2.jpg',\n",
       " '/private/var/folders/gj/02z13zbd6zdgck3cpjnc8qwr0000gn/T/gradio/5fdc786e32c41a8c4d046a5eca45a42313b792ad5470afb2d877c8b6dd94d7c3/14850a2e-6f12-4512-984e-d840d5385928.jpg',\n",
       " '/private/var/folders/gj/02z13zbd6zdgck3cpjnc8qwr0000gn/T/gradio/ea9a35b1ae49b239b1e4a005f02e5dc7c884cfc68aedc6a381f32248f2b64c7b/f8f7c203-e32b-4bdf-9f2e-e3ac12415c0b.jpg']"
      ]
     },
     "execution_count": 5,
     "metadata": {},
     "output_type": "execute_result"
    }
   ],
   "source": [
    "resl"
   ]
  },
  {
   "cell_type": "code",
   "execution_count": 6,
   "id": "12614d7c-87ea-4f61-9317-c70ce5d38bd4",
   "metadata": {},
   "outputs": [
    {
     "name": "stdout",
     "output_type": "stream",
     "text": [
      "* Running on local URL:  http://127.0.0.1:7860\n",
      "\n",
      "To create a public link, set `share=True` in `launch()`.\n"
     ]
    },
    {
     "data": {
      "text/html": [
       "<div><iframe src=\"http://127.0.0.1:7860/\" width=\"100%\" height=\"500\" allow=\"autoplay; camera; microphone; clipboard-read; clipboard-write;\" frameborder=\"0\" allowfullscreen></iframe></div>"
      ],
      "text/plain": [
       "<IPython.core.display.HTML object>"
      ]
     },
     "metadata": {},
     "output_type": "display_data"
    },
    {
     "data": {
      "text/plain": []
     },
     "execution_count": 6,
     "metadata": {},
     "output_type": "execute_result"
    }
   ],
   "source": [
    "# fig, axs = plt.subplots(1, len(resl), figsize=(15, 5))\n",
    "\n",
    "# for ax, path in zip(axs, resl):\n",
    "#     img = mpimg.imread(path)\n",
    "#     ax.imshow(img)\n",
    "#     ax.axis('off')\n",
    "\n",
    "# plt.tight_layout()\n",
    "# plt.show()\n",
    "\n",
    "\n",
    "# def display_images():\n",
    "#     return resl\n",
    "\n",
    "# gr.Interface(fn=display_images, inputs=[], outputs=gr.Gallery(label=\"图片预览\")).launch()\n",
    "\n",
    "import csv\n",
    "import os\n",
    "from datetime import datetime\n",
    "\n",
    "csv_folder = \"image_scores\"\n",
    "os.makedirs(csv_folder, exist_ok=True)\n",
    "csv_file = os.path.join(csv_folder, \"image_scores.csv\")\n",
    "\n",
    "# Saved the score to the local CSV file\n",
    "def score_image(selected_image, score):\n",
    "    timestamp = datetime.now().strftime('%Y-%m-%d %H:%M:%S')\n",
    "    with open(csv_file, mode='a', newline='', encoding='utf-8') as file:\n",
    "        writer = csv.writer(file)\n",
    "        writer.writerow([selected_image, score, timestamp])\n",
    "    return f\"已保存✅ {selected_image} 已评分：{score} 分\"\n",
    "\n",
    "# Gradio UI components in blocks\n",
    "with gr.Blocks() as demo:\n",
    "    gr.Markdown(\"##  Slide the bar to rate the chosen image\")\n",
    "\n",
    "    gallery = gr.Gallery(label=\"image preview\", value=resl, interactive=True, show_label=True, columns=[3], height=\"auto\")\n",
    "    selected_image = gr.Textbox(label=\"url of the chosen image\", interactive=False)\n",
    "    score_slider = gr.Slider(minimum=1, maximum=5, step=1, label=\"rate from 1-5\")\n",
    "    output_text = gr.Textbox(label=\"result\", interactive=False)\n",
    "\n",
    "    # reset url after click\n",
    "    def get_selected_image(evt: gr.SelectData):\n",
    "        return str(evt.value)  \n",
    "    gallery.select(fn=get_selected_image, inputs=None, outputs=selected_image)\n",
    "\n",
    "    # submit the score\n",
    "    btn = gr.Button(\"Submit✅\")\n",
    "    btn.click(fn=score_image, inputs=[selected_image, score_slider], outputs=output_text)\n",
    "\n",
    "demo.launch()"
   ]
  },
  {
   "cell_type": "code",
   "execution_count": 18,
   "id": "90b755d1-d47b-4f1a-847f-2035b46bb689",
   "metadata": {},
   "outputs": [
    {
     "data": {
      "text/plain": [
       "['/private/var/folders/gj/02z13zbd6zdgck3cpjnc8qwr0000gn/T/gradio/91d3c8c1ddfd237fb0785363d8d9f7d8c5bbbbde5ee50e95d2821d3f1b77f449/79128e8c-95e5-4c95-b44e-999d9dfceacb.jpg',\n",
       " '/private/var/folders/gj/02z13zbd6zdgck3cpjnc8qwr0000gn/T/gradio/6ead236e4a354a31e9213c53f27fbc503b4f74def628fe85ee4fc27ccbcaa9b7/2c2e8a57-789b-4460-99c6-2517bdc4117e.jpg',\n",
       " '/private/var/folders/gj/02z13zbd6zdgck3cpjnc8qwr0000gn/T/gradio/77ba82fc8f672436304da3a5a055129eb8c44346f8ba418269cbed06bb7d18be/f9d95390-d4cc-456e-a8df-0668d70cd030.jpg',\n",
       " '/private/var/folders/gj/02z13zbd6zdgck3cpjnc8qwr0000gn/T/gradio/5f53279df63ffbf1e2578d9c9102edd28d2570bdd4dc7cab350a2a44e8736828/33157638-a78e-4154-b5ef-45bb0d61907c.jpg']"
      ]
     },
     "execution_count": 18,
     "metadata": {},
     "output_type": "execute_result"
    }
   ],
   "source": [
    "resl"
   ]
  },
  {
   "cell_type": "code",
   "execution_count": null,
   "id": "de523aa8-20ab-40bc-b507-b9a4dfa71a2c",
   "metadata": {},
   "outputs": [],
   "source": []
  }
 ],
 "metadata": {
  "kernelspec": {
   "display_name": "Python 3 (ipykernel)",
   "language": "python",
   "name": "python3"
  },
  "language_info": {
   "codemirror_mode": {
    "name": "ipython",
    "version": 3
   },
   "file_extension": ".py",
   "mimetype": "text/x-python",
   "name": "python",
   "nbconvert_exporter": "python",
   "pygments_lexer": "ipython3",
   "version": "3.13.0"
  }
 },
 "nbformat": 4,
 "nbformat_minor": 5
}
